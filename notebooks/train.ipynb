{
 "cells": [
  {
   "cell_type": "code",
   "execution_count": 1,
   "metadata": {},
   "outputs": [
    {
     "name": "stdout",
     "output_type": "stream",
     "text": [
      "/Users/bdboy/Desktop/Projects/Music-Generation\n"
     ]
    }
   ],
   "source": [
    "cd .."
   ]
  },
  {
   "cell_type": "code",
   "execution_count": 2,
   "metadata": {},
   "outputs": [],
   "source": [
    "from melGAN import Generator, Discriminator\n",
    "from dataset import AudioDataset"
   ]
  },
  {
   "cell_type": "code",
   "execution_count": 3,
   "metadata": {},
   "outputs": [],
   "source": [
    "import torch\n",
    "import torchaudio\n",
    "import torch.nn as nn\n",
    "import torch.optim as optim\n",
    "from torch.utils.data import DataLoader"
   ]
  },
  {
   "cell_type": "code",
   "execution_count": 4,
   "metadata": {},
   "outputs": [],
   "source": [
    "import matplotlib.pyplot as plt\n",
    "import numpy as np"
   ]
  },
  {
   "cell_type": "code",
   "execution_count": 5,
   "metadata": {},
   "outputs": [
    {
     "name": "stdout",
     "output_type": "stream",
     "text": [
      "Using device cpu\n",
      "There are 224 samples in the dataset.\n",
      "Shape of signal: torch.Size([1, 64, 16])\n"
     ]
    }
   ],
   "source": [
    "AUDIO_DIR = \"/Users/bdboy/Desktop/Projects/Music-Generation/data/drums/test\"\n",
    "SAMPLE_RATE = 16000\n",
    "NUM_SAMPLES = 8000\n",
    "\n",
    "if torch.cuda.is_available():\n",
    "    DEVICE = \"cuda\"\n",
    "else:\n",
    "    DEVICE = \"cpu\"\n",
    "print(f\"Using device {DEVICE}\")\n",
    "\n",
    "TRANSFORM = torchaudio.transforms.MelSpectrogram(\n",
    "    sample_rate=SAMPLE_RATE,\n",
    "    n_fft=1024,\n",
    "    hop_length=512,\n",
    "    n_mels=64\n",
    ")\n",
    "\n",
    "drums = AudioDataset(AUDIO_DIR, TRANSFORM, SAMPLE_RATE, NUM_SAMPLES, DEVICE)\n",
    "dataloader = DataLoader(drums, batch_size=16, shuffle=True)\n",
    "\n",
    "print(f\"There are {len(drums)} samples in the dataset.\")\n",
    "signal = drums[0]\n",
    "print(f\"Shape of signal: {signal.shape}\")"
   ]
  },
  {
   "cell_type": "code",
   "execution_count": 6,
   "metadata": {},
   "outputs": [],
   "source": [
    "def weights_init(m):\n",
    "    classname = m.__class__.__name__\n",
    "    if classname.find('Conv') != -1:\n",
    "        nn.init.normal_(m.weight.data, 0.0, 0.02)\n",
    "    elif classname.find('BatchNorm') != -1:\n",
    "        nn.init.normal_(m.weight.data, 1.0, 0.02)\n",
    "        nn.init.constant_(m.bias.data, 0)"
   ]
  },
  {
   "cell_type": "code",
   "execution_count": 7,
   "metadata": {},
   "outputs": [
    {
     "name": "stdout",
     "output_type": "stream",
     "text": [
      "Generator(\n",
      "  (activ): SELU()\n",
      "  (conv1): ConvTranspose2d(50, 256, kernel_size=(3, 2), stride=(2, 2))\n",
      "  (conv2): ConvTranspose2d(256, 128, kernel_size=(3, 2), stride=(2, 2))\n",
      "  (conv3): ConvTranspose2d(128, 32, kernel_size=(3, 2), stride=(2, 2))\n",
      "  (conv4): ConvTranspose2d(32, 8, kernel_size=(3, 2), stride=(2, 2), output_padding=(1, 1))\n",
      "  (conv5): ConvTranspose2d(8, 1, kernel_size=(3, 2), stride=(2, 1), padding=(1, 1), output_padding=(1, 0))\n",
      ")\n",
      "Discriminator(\n",
      "  (activ): SELU()\n",
      "  (sigmoid): Sigmoid()\n",
      "  (conv1): Conv2d(1, 4, kernel_size=(3, 2), stride=(2, 1), padding=(1, 1))\n",
      "  (conv2): Conv2d(4, 16, kernel_size=(3, 2), stride=(2, 2))\n",
      "  (conv3): Conv2d(16, 32, kernel_size=(3, 2), stride=(2, 2))\n",
      "  (conv4): Conv2d(32, 64, kernel_size=(3, 2), stride=(2, 2))\n",
      "  (fc1): Linear(in_features=384, out_features=64, bias=True)\n",
      "  (fc2): Linear(in_features=64, out_features=1, bias=True)\n",
      ")\n"
     ]
    }
   ],
   "source": [
    "netG = Generator().to(DEVICE)\n",
    "netD = Discriminator().to(DEVICE)\n",
    "\n",
    "netG.apply(weights_init)\n",
    "netD.apply(weights_init)\n",
    "\n",
    "print(netG)\n",
    "print(netD)"
   ]
  },
  {
   "cell_type": "code",
   "execution_count": 8,
   "metadata": {},
   "outputs": [],
   "source": [
    "lr = 0.0002\n",
    "beta1 = 0.5\n",
    "\n",
    "loss = nn.BCELoss()\n",
    "optimizerD = optim.Adam(netD.parameters(), lr=lr, betas=(beta1, 0.999))\n",
    "optimizerG = optim.Adam(netG.parameters(), lr=lr, betas=(beta1, 0.999))"
   ]
  },
  {
   "cell_type": "code",
   "execution_count": 21,
   "metadata": {},
   "outputs": [
    {
     "name": "stdout",
     "output_type": "stream",
     "text": [
      "Starting Training Loop...\n",
      "[0/200][13/14]\tLoss_D: 0.0402\tLoss_G: 4.0617\tD(x): 0.9816\tD(G(z)): 0.0182 / 0.0231\n",
      "[10/200][13/14]\tLoss_D: 0.0545\tLoss_G: 3.7670\tD(x): 0.9995\tD(G(z)): 0.0490 / 0.0350\n",
      "[20/200][13/14]\tLoss_D: 0.1194\tLoss_G: 3.2623\tD(x): 0.9554\tD(G(z)): 0.0419 / 0.0549\n",
      "[30/200][13/14]\tLoss_D: 0.0530\tLoss_G: 4.1653\tD(x): 0.9722\tD(G(z)): 0.0159 / 0.0423\n",
      "[40/200][13/14]\tLoss_D: 0.2329\tLoss_G: 4.0281\tD(x): 0.9206\tD(G(z)): 0.0828 / 0.0303\n",
      "[50/200][13/14]\tLoss_D: 0.1259\tLoss_G: 3.4511\tD(x): 0.9560\tD(G(z)): 0.0474 / 0.0545\n",
      "[60/200][13/14]\tLoss_D: 0.3181\tLoss_G: 2.4236\tD(x): 0.8777\tD(G(z)): 0.0618 / 0.1126\n",
      "[70/200][13/14]\tLoss_D: 0.0075\tLoss_G: 6.3225\tD(x): 0.9991\tD(G(z)): 0.0065 / 0.0047\n",
      "[80/200][13/14]\tLoss_D: 0.3513\tLoss_G: 2.8945\tD(x): 0.8708\tD(G(z)): 0.0186 / 0.0793\n",
      "[90/200][13/14]\tLoss_D: 0.0792\tLoss_G: 3.5109\tD(x): 1.0000\tD(G(z)): 0.0729 / 0.0509\n",
      "[100/200][13/14]\tLoss_D: 0.2066\tLoss_G: 4.8720\tD(x): 0.9197\tD(G(z)): 0.0061 / 0.0167\n",
      "[110/200][13/14]\tLoss_D: 0.0129\tLoss_G: 6.8598\tD(x): 0.9913\tD(G(z)): 0.0035 / 0.0018\n",
      "[120/200][13/14]\tLoss_D: 0.0867\tLoss_G: 4.6733\tD(x): 0.9945\tD(G(z)): 0.0734 / 0.0238\n",
      "[130/200][13/14]\tLoss_D: 0.0050\tLoss_G: 6.2570\tD(x): 1.0000\tD(G(z)): 0.0050 / 0.0038\n",
      "[140/200][13/14]\tLoss_D: 0.1835\tLoss_G: 3.2137\tD(x): 0.9455\tD(G(z)): 0.0664 / 0.0704\n",
      "[150/200][13/14]\tLoss_D: 0.0589\tLoss_G: 3.9267\tD(x): 0.9951\tD(G(z)): 0.0522 / 0.0212\n",
      "[160/200][13/14]\tLoss_D: 0.1128\tLoss_G: 5.9672\tD(x): 0.9481\tD(G(z)): 0.0017 / 0.0049\n",
      "[170/200][13/14]\tLoss_D: 0.1335\tLoss_G: 4.8755\tD(x): 0.9437\tD(G(z)): 0.0044 / 0.0094\n",
      "[180/200][13/14]\tLoss_D: 0.1146\tLoss_G: 3.8214\tD(x): 0.9509\tD(G(z)): 0.0260 / 0.0263\n",
      "[190/200][13/14]\tLoss_D: 0.0526\tLoss_G: 4.2284\tD(x): 0.9820\tD(G(z)): 0.0303 / 0.0220\n"
     ]
    }
   ],
   "source": [
    "num_epochs = 200\n",
    "real_label = 1\n",
    "fake_label = 0\n",
    "\n",
    "\n",
    "img_list = []\n",
    "G_losses = []\n",
    "D_losses = []\n",
    "iters = 0\n",
    "\n",
    "print(\"Starting Training Loop...\")\n",
    "\n",
    "for epoch in range(num_epochs):\n",
    "    for i, data in enumerate(dataloader, 0):\n",
    "\n",
    "\n",
    "        netD.zero_grad()\n",
    "\n",
    "        real_cpu = data.to(DEVICE)\n",
    "        b_size = real_cpu.size(0)\n",
    "        label = torch.full((b_size,), real_label, dtype=torch.float, device=DEVICE)\n",
    "        output = netD(real_cpu).view(-1)\n",
    "        errD_real = loss(output, label)\n",
    "        errD_real.backward()\n",
    "        D_x = output.mean().item()\n",
    "\n",
    "        noise = torch.randn(b_size, 50, 1, 1, device=DEVICE)\n",
    "        fake = netG(noise)\n",
    "        label.fill_(fake_label)\n",
    "        output = netD(fake.detach()).view(-1)\n",
    "        errD_fake = loss(output, label)\n",
    "        errD_fake.backward()\n",
    "        D_G_z1 = output.mean().item()\n",
    "        errD = errD_real + errD_fake\n",
    "\n",
    "        optimizerD.step()\n",
    "\n",
    "\n",
    "        \n",
    "        netG.zero_grad()\n",
    "\n",
    "        label.fill_(real_label)\n",
    "        output = netD(fake).view(-1)\n",
    "        errG = loss(output, label)\n",
    "        errG.backward()\n",
    "        D_G_z2 = output.mean().item()\n",
    "\n",
    "        optimizerG.step()\n",
    "\n",
    "        # Output training stats\n",
    "        if epoch%10==0 and i==13:\n",
    "            print('[%d/%d][%d/%d]\\tLoss_D: %.4f\\tLoss_G: %.4f\\tD(x): %.4f\\tD(G(z)): %.4f / %.4f'\n",
    "                  % (epoch, num_epochs, i, len(dataloader),\n",
    "                     errD.item(), errG.item(), D_x, D_G_z1, D_G_z2))\n",
    "\n",
    "        G_losses.append(errG.item())\n",
    "        D_losses.append(errD.item())"
   ]
  }
 ],
 "metadata": {
  "kernelspec": {
   "display_name": ".venv",
   "language": "python",
   "name": "python3"
  },
  "language_info": {
   "codemirror_mode": {
    "name": "ipython",
    "version": 3
   },
   "file_extension": ".py",
   "mimetype": "text/x-python",
   "name": "python",
   "nbconvert_exporter": "python",
   "pygments_lexer": "ipython3",
   "version": "3.10.8"
  },
  "orig_nbformat": 4,
  "vscode": {
   "interpreter": {
    "hash": "c9725ae132daa6d67e7c0696dc70d7bd7710527aa3b8cab22929a7a827da9806"
   }
  }
 },
 "nbformat": 4,
 "nbformat_minor": 2
}
