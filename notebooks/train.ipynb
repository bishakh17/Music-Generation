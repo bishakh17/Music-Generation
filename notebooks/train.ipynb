{
 "cells": [
  {
   "cell_type": "code",
   "execution_count": 1,
   "metadata": {},
   "outputs": [
    {
     "name": "stdout",
     "output_type": "stream",
     "text": [
      "/Users/bdboy/Desktop/Projects/Music-Generation\n"
     ]
    }
   ],
   "source": [
    "cd .."
   ]
  },
  {
   "cell_type": "code",
   "execution_count": 2,
   "metadata": {},
   "outputs": [],
   "source": [
    "from melGAN import Generator, Discriminator\n",
    "from dataset import AudioDataset"
   ]
  },
  {
   "cell_type": "code",
   "execution_count": 3,
   "metadata": {},
   "outputs": [],
   "source": [
    "import torch\n",
    "import torchaudio\n",
    "import torch.nn as nn\n",
    "import torch.optim as optim\n",
    "from torch.utils.data import DataLoader"
   ]
  },
  {
   "cell_type": "code",
   "execution_count": 4,
   "metadata": {},
   "outputs": [],
   "source": [
    "import matplotlib.pyplot as plt\n",
    "import numpy as np"
   ]
  },
  {
   "cell_type": "code",
   "execution_count": 5,
   "metadata": {},
   "outputs": [
    {
     "name": "stdout",
     "output_type": "stream",
     "text": [
      "Using device cpu\n",
      "There are 2350 samples in the dataset.\n",
      "Shape of signal: torch.Size([1, 64, 16])\n"
     ]
    }
   ],
   "source": [
    "AUDIO_DIR = \"/Users/bdboy/Desktop/Projects/Music-Generation/data/drums/train\"\n",
    "SAMPLE_RATE = 16000\n",
    "NUM_SAMPLES = 8000\n",
    "\n",
    "if torch.cuda.is_available():\n",
    "    DEVICE = \"cuda\"\n",
    "else:\n",
    "    DEVICE = \"cpu\"\n",
    "print(f\"Using device {DEVICE}\")\n",
    "\n",
    "TRANSFORM = torchaudio.transforms.MelSpectrogram(\n",
    "    sample_rate=SAMPLE_RATE,\n",
    "    n_fft=1024,\n",
    "    hop_length=512,\n",
    "    n_mels=64\n",
    ")\n",
    "\n",
    "drums = AudioDataset(AUDIO_DIR, TRANSFORM, SAMPLE_RATE, NUM_SAMPLES, DEVICE)\n",
    "dataloader = DataLoader(drums, batch_size=64, shuffle=True)\n",
    "\n",
    "print(f\"There are {len(drums)} samples in the dataset.\")\n",
    "signal = drums[0]\n",
    "print(f\"Shape of signal: {signal.shape}\")"
   ]
  },
  {
   "cell_type": "code",
   "execution_count": 6,
   "metadata": {},
   "outputs": [],
   "source": [
    "def weights_init(m):\n",
    "    classname = m.__class__.__name__\n",
    "    if classname.find('Conv') != -1:\n",
    "        nn.init.normal_(m.weight.data, 0.0, 0.02)\n",
    "    elif classname.find('BatchNorm') != -1:\n",
    "        nn.init.normal_(m.weight.data, 1.0, 0.02)\n",
    "        nn.init.constant_(m.bias.data, 0)"
   ]
  },
  {
   "cell_type": "code",
   "execution_count": 7,
   "metadata": {},
   "outputs": [
    {
     "name": "stdout",
     "output_type": "stream",
     "text": [
      "Generator(\n",
      "  (activ): SELU()\n",
      "  (conv1): ConvTranspose2d(20, 256, kernel_size=(3, 2), stride=(2, 2))\n",
      "  (conv2): ConvTranspose2d(256, 128, kernel_size=(3, 2), stride=(2, 2))\n",
      "  (conv3): ConvTranspose2d(128, 32, kernel_size=(3, 2), stride=(2, 2))\n",
      "  (conv4): ConvTranspose2d(32, 8, kernel_size=(3, 2), stride=(2, 2), output_padding=(1, 1))\n",
      "  (conv5): ConvTranspose2d(8, 1, kernel_size=(3, 2), stride=(2, 1), padding=(1, 1), output_padding=(1, 0))\n",
      ")\n",
      "Discriminator(\n",
      "  (activ): SELU()\n",
      "  (sigmoid): Sigmoid()\n",
      "  (conv1): Conv2d(1, 4, kernel_size=(3, 2), stride=(2, 1), padding=(1, 1))\n",
      "  (conv2): Conv2d(4, 16, kernel_size=(3, 2), stride=(2, 2))\n",
      "  (conv3): Conv2d(16, 32, kernel_size=(3, 2), stride=(2, 2))\n",
      "  (conv4): Conv2d(32, 64, kernel_size=(3, 2), stride=(2, 2))\n",
      "  (conv5): Conv2d(64, 128, kernel_size=(3, 2), stride=(2, 2))\n",
      "  (fc1): Linear(in_features=128, out_features=64, bias=True)\n",
      "  (fc2): Linear(in_features=64, out_features=1, bias=True)\n",
      ")\n"
     ]
    }
   ],
   "source": [
    "netG = Generator().to(DEVICE)\n",
    "netD = Discriminator().to(DEVICE)\n",
    "\n",
    "netG.apply(weights_init)\n",
    "netD.apply(weights_init)\n",
    "\n",
    "print(netG)\n",
    "print(netD)"
   ]
  },
  {
   "cell_type": "code",
   "execution_count": 8,
   "metadata": {},
   "outputs": [],
   "source": [
    "lr = 0.0002\n",
    "beta1 = 0.5\n",
    "\n",
    "loss = nn.BCELoss()\n",
    "optimizerD = optim.Adam(netD.parameters(), lr=lr, betas=(beta1, 0.999))\n",
    "optimizerG = optim.Adam(netG.parameters(), lr=lr, betas=(beta1, 0.999))"
   ]
  },
  {
   "cell_type": "code",
   "execution_count": 9,
   "metadata": {},
   "outputs": [
    {
     "name": "stdout",
     "output_type": "stream",
     "text": [
      "Starting Training Loop...\n",
      "[0/100][13/37]\tLoss_D: 1.1084\tLoss_G: 0.8460\tD(x): 0.5980\tD(G(z)): 0.4414 / 0.4291\n",
      "[10/100][13/37]\tLoss_D: 0.2696\tLoss_G: 3.9493\tD(x): 0.9367\tD(G(z)): 0.0275 / 0.0258\n",
      "[20/100][13/37]\tLoss_D: 0.1171\tLoss_G: 3.8858\tD(x): 0.9717\tD(G(z)): 0.0368 / 0.0225\n",
      "[30/100][13/37]\tLoss_D: 0.0441\tLoss_G: 3.6541\tD(x): 0.9997\tD(G(z)): 0.0423 / 0.0297\n",
      "[40/100][13/37]\tLoss_D: 0.1596\tLoss_G: 2.7518\tD(x): 0.9572\tD(G(z)): 0.0857 / 0.0731\n",
      "[50/100][13/37]\tLoss_D: 0.2780\tLoss_G: 2.8215\tD(x): 0.9174\tD(G(z)): 0.0617 / 0.0755\n",
      "[60/100][13/37]\tLoss_D: 0.1469\tLoss_G: 3.2437\tD(x): 0.9701\tD(G(z)): 0.0712 / 0.0530\n",
      "[70/100][13/37]\tLoss_D: 0.2398\tLoss_G: 3.6580\tD(x): 0.9361\tD(G(z)): 0.0291 / 0.0358\n",
      "[80/100][13/37]\tLoss_D: 0.3610\tLoss_G: 2.8672\tD(x): 0.9100\tD(G(z)): 0.0302 / 0.0669\n",
      "[90/100][13/37]\tLoss_D: 0.0769\tLoss_G: 3.8185\tD(x): 0.9806\tD(G(z)): 0.0281 / 0.0247\n"
     ]
    }
   ],
   "source": [
    "num_epochs = 100\n",
    "real_label = 1\n",
    "fake_label = 0\n",
    "\n",
    "\n",
    "img_list = []\n",
    "G_losses = []\n",
    "D_losses = []\n",
    "iters = 0\n",
    "\n",
    "print(\"Starting Training Loop...\")\n",
    "\n",
    "for epoch in range(num_epochs):\n",
    "    for i, data in enumerate(dataloader, 0):\n",
    "\n",
    "\n",
    "        netD.zero_grad()\n",
    "\n",
    "        real_cpu = data.to(DEVICE)\n",
    "        b_size = real_cpu.size(0)\n",
    "        label = torch.full((b_size,), real_label, dtype=torch.float, device=DEVICE)\n",
    "        output = netD(real_cpu).view(-1)\n",
    "        errD_real = loss(output, label)\n",
    "        errD_real.backward()\n",
    "        D_x = output.mean().item()\n",
    "\n",
    "        noise = torch.randn(b_size, 20, 1, 1, device=DEVICE)\n",
    "        fake = netG(noise)\n",
    "        label.fill_(fake_label)\n",
    "        output = netD(fake.detach()).view(-1)\n",
    "        errD_fake = loss(output, label)\n",
    "        errD_fake.backward()\n",
    "        D_G_z1 = output.mean().item()\n",
    "        errD = errD_real + errD_fake\n",
    "\n",
    "        optimizerD.step()\n",
    "\n",
    "\n",
    "        \n",
    "        netG.zero_grad()\n",
    "\n",
    "        label.fill_(real_label)\n",
    "        output = netD(fake).view(-1)\n",
    "        errG = loss(output, label)\n",
    "        errG.backward()\n",
    "        D_G_z2 = output.mean().item()\n",
    "\n",
    "        optimizerG.step()\n",
    "\n",
    "        \n",
    "        if epoch%10==0 and i==13:\n",
    "            print('[%d/%d][%d/%d]\\tLoss_D: %.4f\\tLoss_G: %.4f\\tD(x): %.4f\\tD(G(z)): %.4f / %.4f'\n",
    "                  % (epoch, num_epochs, i, len(dataloader),\n",
    "                     errD.item(), errG.item(), D_x, D_G_z1, D_G_z2))\n",
    "\n",
    "        G_losses.append(errG.item())\n",
    "        D_losses.append(errD.item())"
   ]
  }
 ],
 "metadata": {
  "kernelspec": {
   "display_name": ".venv",
   "language": "python",
   "name": "python3"
  },
  "language_info": {
   "codemirror_mode": {
    "name": "ipython",
    "version": 3
   },
   "file_extension": ".py",
   "mimetype": "text/x-python",
   "name": "python",
   "nbconvert_exporter": "python",
   "pygments_lexer": "ipython3",
   "version": "3.10.8"
  },
  "orig_nbformat": 4,
  "vscode": {
   "interpreter": {
    "hash": "c9725ae132daa6d67e7c0696dc70d7bd7710527aa3b8cab22929a7a827da9806"
   }
  }
 },
 "nbformat": 4,
 "nbformat_minor": 2
}
