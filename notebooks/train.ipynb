{
 "cells": [
  {
   "cell_type": "code",
   "execution_count": 1,
   "metadata": {},
   "outputs": [
    {
     "name": "stdout",
     "output_type": "stream",
     "text": [
      "/Users/bdboy/Desktop/Projects/Music-Generation\n"
     ]
    }
   ],
   "source": [
    "cd .."
   ]
  },
  {
   "cell_type": "code",
   "execution_count": 2,
   "metadata": {},
   "outputs": [],
   "source": [
    "from melGAN import Generator, Discriminator\n",
    "from dataset import AudioDataset"
   ]
  },
  {
   "cell_type": "code",
   "execution_count": 3,
   "metadata": {},
   "outputs": [],
   "source": [
    "import torch\n",
    "import torchaudio\n",
    "import torch.nn as nn\n",
    "import torch.optim as optim\n",
    "from torch.utils.data import DataLoader"
   ]
  },
  {
   "cell_type": "code",
   "execution_count": 4,
   "metadata": {},
   "outputs": [],
   "source": [
    "import matplotlib.pyplot as plt\n",
    "import numpy as np"
   ]
  },
  {
   "cell_type": "code",
   "execution_count": 5,
   "metadata": {},
   "outputs": [
    {
     "name": "stdout",
     "output_type": "stream",
     "text": [
      "Using device cpu\n",
      "There are 2350 samples in the dataset.\n",
      "Shape of signal: torch.Size([1, 64, 16])\n"
     ]
    }
   ],
   "source": [
    "AUDIO_DIR = \"/Users/bdboy/Desktop/Projects/Music-Generation/data/drums/train\"\n",
    "SAMPLE_RATE = 16000\n",
    "NUM_SAMPLES = 8000\n",
    "\n",
    "if torch.cuda.is_available():\n",
    "    DEVICE = \"cuda\"\n",
    "else:\n",
    "    DEVICE = \"cpu\"\n",
    "print(f\"Using device {DEVICE}\")\n",
    "\n",
    "TRANSFORM = torchaudio.transforms.MelSpectrogram(\n",
    "    sample_rate=SAMPLE_RATE,\n",
    "    n_fft=1024,\n",
    "    hop_length=512,\n",
    "    n_mels=64\n",
    ")\n",
    "\n",
    "drums = AudioDataset(AUDIO_DIR, TRANSFORM, SAMPLE_RATE, NUM_SAMPLES, DEVICE)\n",
    "dataloader = DataLoader(drums, batch_size=128, shuffle=True)\n",
    "\n",
    "print(f\"There are {len(drums)} samples in the dataset.\")\n",
    "signal = drums[0]\n",
    "print(f\"Shape of signal: {signal.shape}\")"
   ]
  },
  {
   "cell_type": "code",
   "execution_count": 6,
   "metadata": {},
   "outputs": [],
   "source": [
    "def weights_init(m):\n",
    "    classname = m.__class__.__name__\n",
    "    if classname.find('Conv') != -1:\n",
    "        nn.init.normal_(m.weight.data, 0.0, 0.02)\n",
    "    elif classname.find('BatchNorm') != -1:\n",
    "        nn.init.normal_(m.weight.data, 1.0, 0.02)\n",
    "        nn.init.constant_(m.bias.data, 0)"
   ]
  },
  {
   "cell_type": "code",
   "execution_count": 7,
   "metadata": {},
   "outputs": [
    {
     "name": "stdout",
     "output_type": "stream",
     "text": [
      "Generator(\n",
      "  (activ): SELU()\n",
      "  (conv1): ConvTranspose2d(20, 256, kernel_size=(3, 2), stride=(2, 2))\n",
      "  (conv2): ConvTranspose2d(256, 128, kernel_size=(3, 2), stride=(2, 2))\n",
      "  (conv3): ConvTranspose2d(128, 32, kernel_size=(3, 2), stride=(2, 2))\n",
      "  (conv4): ConvTranspose2d(32, 8, kernel_size=(3, 2), stride=(2, 2), output_padding=(1, 1))\n",
      "  (conv5): ConvTranspose2d(8, 1, kernel_size=(3, 2), stride=(2, 1), padding=(1, 1), output_padding=(1, 0))\n",
      ")\n",
      "Discriminator(\n",
      "  (activ): SELU()\n",
      "  (sigmoid): Sigmoid()\n",
      "  (conv1): Conv2d(1, 4, kernel_size=(3, 2), stride=(2, 1), padding=(1, 1))\n",
      "  (conv2): Conv2d(4, 16, kernel_size=(3, 2), stride=(2, 2))\n",
      "  (conv3): Conv2d(16, 32, kernel_size=(3, 2), stride=(2, 2))\n",
      "  (conv4): Conv2d(32, 64, kernel_size=(3, 2), stride=(2, 2))\n",
      "  (conv5): Conv2d(64, 128, kernel_size=(3, 2), stride=(2, 2))\n",
      "  (fc1): Linear(in_features=128, out_features=64, bias=True)\n",
      "  (fc2): Linear(in_features=64, out_features=1, bias=True)\n",
      ")\n"
     ]
    }
   ],
   "source": [
    "netG = Generator().to(DEVICE)\n",
    "netD = Discriminator().to(DEVICE)\n",
    "\n",
    "netG.apply(weights_init)\n",
    "netD.apply(weights_init)\n",
    "\n",
    "print(netG)\n",
    "print(netD)"
   ]
  },
  {
   "cell_type": "code",
   "execution_count": 8,
   "metadata": {},
   "outputs": [],
   "source": [
    "lr = 0.0002\n",
    "beta1 = 0.5\n",
    "\n",
    "loss = nn.BCELoss()\n",
    "optimizerD = optim.Adam(netD.parameters(), lr=lr, betas=(beta1, 0.999))\n",
    "optimizerG = optim.Adam(netG.parameters(), lr=lr, betas=(beta1, 0.999))"
   ]
  },
  {
   "cell_type": "code",
   "execution_count": 9,
   "metadata": {},
   "outputs": [
    {
     "name": "stdout",
     "output_type": "stream",
     "text": [
      "Starting Training Loop...\n",
      "[0/5000][18/19]\tLoss_D: 0.7335\tLoss_G: 1.2703\tD(x): 0.7237\tD(G(z)): 0.3173 / 0.2807\n",
      "[50/5000][18/19]\tLoss_D: 0.1624\tLoss_G: 3.2273\tD(x): 0.9600\tD(G(z)): 0.0492 / 0.0421\n",
      "[100/5000][18/19]\tLoss_D: 0.1596\tLoss_G: 3.3888\tD(x): 0.9624\tD(G(z)): 0.0595 / 0.0404\n",
      "[150/5000][18/19]\tLoss_D: 0.1264\tLoss_G: 3.9758\tD(x): 0.9781\tD(G(z)): 0.0396 / 0.0214\n",
      "[200/5000][18/19]\tLoss_D: 0.0883\tLoss_G: 3.3538\tD(x): 0.9691\tD(G(z)): 0.0395 / 0.0368\n",
      "[250/5000][18/19]\tLoss_D: 0.1278\tLoss_G: 3.8742\tD(x): 0.9787\tD(G(z)): 0.0381 / 0.0258\n",
      "[300/5000][18/19]\tLoss_D: 0.1433\tLoss_G: 3.8906\tD(x): 0.9582\tD(G(z)): 0.0209 / 0.0246\n",
      "[350/5000][18/19]\tLoss_D: 0.0956\tLoss_G: 4.2079\tD(x): 0.9714\tD(G(z)): 0.0219 / 0.0164\n",
      "[400/5000][18/19]\tLoss_D: 0.1605\tLoss_G: 2.8155\tD(x): 0.9457\tD(G(z)): 0.0337 / 0.0792\n",
      "[450/5000][18/19]\tLoss_D: 0.2979\tLoss_G: 3.8888\tD(x): 0.9348\tD(G(z)): 0.0187 / 0.0243\n",
      "[500/5000][18/19]\tLoss_D: 0.1835\tLoss_G: 3.3623\tD(x): 0.9579\tD(G(z)): 0.0371 / 0.0393\n",
      "[550/5000][18/19]\tLoss_D: 0.0533\tLoss_G: 3.7319\tD(x): 0.9998\tD(G(z)): 0.0512 / 0.0263\n",
      "[600/5000][18/19]\tLoss_D: 0.1865\tLoss_G: 3.2332\tD(x): 0.9387\tD(G(z)): 0.0286 / 0.0515\n",
      "[650/5000][18/19]\tLoss_D: 0.2141\tLoss_G: 2.9599\tD(x): 0.9399\tD(G(z)): 0.0403 / 0.0608\n",
      "[700/5000][18/19]\tLoss_D: 0.2595\tLoss_G: 3.4293\tD(x): 0.9330\tD(G(z)): 0.0242 / 0.0385\n",
      "[750/5000][18/19]\tLoss_D: 0.2951\tLoss_G: 3.0769\tD(x): 0.9244\tD(G(z)): 0.0271 / 0.0598\n",
      "[800/5000][18/19]\tLoss_D: 0.1768\tLoss_G: 3.6483\tD(x): 0.9558\tD(G(z)): 0.0313 / 0.0331\n",
      "[850/5000][18/19]\tLoss_D: 0.1455\tLoss_G: 3.7703\tD(x): 0.9584\tD(G(z)): 0.0246 / 0.0365\n",
      "[900/5000][18/19]\tLoss_D: 0.0450\tLoss_G: 3.9134\tD(x): 0.9930\tD(G(z)): 0.0360 / 0.0218\n"
     ]
    },
    {
     "ename": "KeyboardInterrupt",
     "evalue": "",
     "output_type": "error",
     "traceback": [
      "\u001b[0;31m---------------------------------------------------------------------------\u001b[0m",
      "\u001b[0;31mKeyboardInterrupt\u001b[0m                         Traceback (most recent call last)",
      "Cell \u001b[0;32mIn[9], line 22\u001b[0m\n\u001b[1;32m     20\u001b[0m b_size \u001b[39m=\u001b[39m real_cpu\u001b[39m.\u001b[39msize(\u001b[39m0\u001b[39m)\n\u001b[1;32m     21\u001b[0m label \u001b[39m=\u001b[39m torch\u001b[39m.\u001b[39mfull((b_size,), real_label, dtype\u001b[39m=\u001b[39mtorch\u001b[39m.\u001b[39mfloat, device\u001b[39m=\u001b[39mDEVICE)\n\u001b[0;32m---> 22\u001b[0m output \u001b[39m=\u001b[39m netD(real_cpu)\u001b[39m.\u001b[39mview(\u001b[39m-\u001b[39m\u001b[39m1\u001b[39m)\n\u001b[1;32m     23\u001b[0m errD_real \u001b[39m=\u001b[39m loss(output, label)\n\u001b[1;32m     24\u001b[0m errD_real\u001b[39m.\u001b[39mbackward()\n",
      "File \u001b[0;32m~/Desktop/Projects/Music-Generation/.venv/lib/python3.10/site-packages/torch/nn/modules/module.py:1501\u001b[0m, in \u001b[0;36mModule._call_impl\u001b[0;34m(self, *args, **kwargs)\u001b[0m\n\u001b[1;32m   1496\u001b[0m \u001b[39m# If we don't have any hooks, we want to skip the rest of the logic in\u001b[39;00m\n\u001b[1;32m   1497\u001b[0m \u001b[39m# this function, and just call forward.\u001b[39;00m\n\u001b[1;32m   1498\u001b[0m \u001b[39mif\u001b[39;00m \u001b[39mnot\u001b[39;00m (\u001b[39mself\u001b[39m\u001b[39m.\u001b[39m_backward_hooks \u001b[39mor\u001b[39;00m \u001b[39mself\u001b[39m\u001b[39m.\u001b[39m_backward_pre_hooks \u001b[39mor\u001b[39;00m \u001b[39mself\u001b[39m\u001b[39m.\u001b[39m_forward_hooks \u001b[39mor\u001b[39;00m \u001b[39mself\u001b[39m\u001b[39m.\u001b[39m_forward_pre_hooks\n\u001b[1;32m   1499\u001b[0m         \u001b[39mor\u001b[39;00m _global_backward_pre_hooks \u001b[39mor\u001b[39;00m _global_backward_hooks\n\u001b[1;32m   1500\u001b[0m         \u001b[39mor\u001b[39;00m _global_forward_hooks \u001b[39mor\u001b[39;00m _global_forward_pre_hooks):\n\u001b[0;32m-> 1501\u001b[0m     \u001b[39mreturn\u001b[39;00m forward_call(\u001b[39m*\u001b[39;49margs, \u001b[39m*\u001b[39;49m\u001b[39m*\u001b[39;49mkwargs)\n\u001b[1;32m   1502\u001b[0m \u001b[39m# Do not call functions when jit is used\u001b[39;00m\n\u001b[1;32m   1503\u001b[0m full_backward_hooks, non_full_backward_hooks \u001b[39m=\u001b[39m [], []\n",
      "File \u001b[0;32m~/Desktop/Projects/Music-Generation/melGAN.py:64\u001b[0m, in \u001b[0;36mDiscriminator.forward\u001b[0;34m(self, input)\u001b[0m\n\u001b[1;32m     62\u001b[0m x \u001b[39m=\u001b[39m \u001b[39mself\u001b[39m\u001b[39m.\u001b[39mactiv(\u001b[39mself\u001b[39m\u001b[39m.\u001b[39mconv3(x))\n\u001b[1;32m     63\u001b[0m x \u001b[39m=\u001b[39m \u001b[39mself\u001b[39m\u001b[39m.\u001b[39mactiv(\u001b[39mself\u001b[39m\u001b[39m.\u001b[39mconv4(x))\n\u001b[0;32m---> 64\u001b[0m x \u001b[39m=\u001b[39m \u001b[39mself\u001b[39m\u001b[39m.\u001b[39mactiv(\u001b[39mself\u001b[39;49m\u001b[39m.\u001b[39;49mconv5(x))\n\u001b[1;32m     65\u001b[0m x \u001b[39m=\u001b[39m torch\u001b[39m.\u001b[39mflatten(x, \u001b[39m1\u001b[39m)\n\u001b[1;32m     66\u001b[0m x \u001b[39m=\u001b[39m \u001b[39mself\u001b[39m\u001b[39m.\u001b[39mactiv(\u001b[39mself\u001b[39m\u001b[39m.\u001b[39mfc1(x))\n",
      "File \u001b[0;32m~/Desktop/Projects/Music-Generation/.venv/lib/python3.10/site-packages/torch/nn/modules/module.py:1501\u001b[0m, in \u001b[0;36mModule._call_impl\u001b[0;34m(self, *args, **kwargs)\u001b[0m\n\u001b[1;32m   1496\u001b[0m \u001b[39m# If we don't have any hooks, we want to skip the rest of the logic in\u001b[39;00m\n\u001b[1;32m   1497\u001b[0m \u001b[39m# this function, and just call forward.\u001b[39;00m\n\u001b[1;32m   1498\u001b[0m \u001b[39mif\u001b[39;00m \u001b[39mnot\u001b[39;00m (\u001b[39mself\u001b[39m\u001b[39m.\u001b[39m_backward_hooks \u001b[39mor\u001b[39;00m \u001b[39mself\u001b[39m\u001b[39m.\u001b[39m_backward_pre_hooks \u001b[39mor\u001b[39;00m \u001b[39mself\u001b[39m\u001b[39m.\u001b[39m_forward_hooks \u001b[39mor\u001b[39;00m \u001b[39mself\u001b[39m\u001b[39m.\u001b[39m_forward_pre_hooks\n\u001b[1;32m   1499\u001b[0m         \u001b[39mor\u001b[39;00m _global_backward_pre_hooks \u001b[39mor\u001b[39;00m _global_backward_hooks\n\u001b[1;32m   1500\u001b[0m         \u001b[39mor\u001b[39;00m _global_forward_hooks \u001b[39mor\u001b[39;00m _global_forward_pre_hooks):\n\u001b[0;32m-> 1501\u001b[0m     \u001b[39mreturn\u001b[39;00m forward_call(\u001b[39m*\u001b[39;49margs, \u001b[39m*\u001b[39;49m\u001b[39m*\u001b[39;49mkwargs)\n\u001b[1;32m   1502\u001b[0m \u001b[39m# Do not call functions when jit is used\u001b[39;00m\n\u001b[1;32m   1503\u001b[0m full_backward_hooks, non_full_backward_hooks \u001b[39m=\u001b[39m [], []\n",
      "File \u001b[0;32m~/Desktop/Projects/Music-Generation/.venv/lib/python3.10/site-packages/torch/nn/modules/conv.py:463\u001b[0m, in \u001b[0;36mConv2d.forward\u001b[0;34m(self, input)\u001b[0m\n\u001b[1;32m    462\u001b[0m \u001b[39mdef\u001b[39;00m \u001b[39mforward\u001b[39m(\u001b[39mself\u001b[39m, \u001b[39minput\u001b[39m: Tensor) \u001b[39m-\u001b[39m\u001b[39m>\u001b[39m Tensor:\n\u001b[0;32m--> 463\u001b[0m     \u001b[39mreturn\u001b[39;00m \u001b[39mself\u001b[39;49m\u001b[39m.\u001b[39;49m_conv_forward(\u001b[39minput\u001b[39;49m, \u001b[39mself\u001b[39;49m\u001b[39m.\u001b[39;49mweight, \u001b[39mself\u001b[39;49m\u001b[39m.\u001b[39;49mbias)\n",
      "File \u001b[0;32m~/Desktop/Projects/Music-Generation/.venv/lib/python3.10/site-packages/torch/nn/modules/conv.py:459\u001b[0m, in \u001b[0;36mConv2d._conv_forward\u001b[0;34m(self, input, weight, bias)\u001b[0m\n\u001b[1;32m    455\u001b[0m \u001b[39mif\u001b[39;00m \u001b[39mself\u001b[39m\u001b[39m.\u001b[39mpadding_mode \u001b[39m!=\u001b[39m \u001b[39m'\u001b[39m\u001b[39mzeros\u001b[39m\u001b[39m'\u001b[39m:\n\u001b[1;32m    456\u001b[0m     \u001b[39mreturn\u001b[39;00m F\u001b[39m.\u001b[39mconv2d(F\u001b[39m.\u001b[39mpad(\u001b[39minput\u001b[39m, \u001b[39mself\u001b[39m\u001b[39m.\u001b[39m_reversed_padding_repeated_twice, mode\u001b[39m=\u001b[39m\u001b[39mself\u001b[39m\u001b[39m.\u001b[39mpadding_mode),\n\u001b[1;32m    457\u001b[0m                     weight, bias, \u001b[39mself\u001b[39m\u001b[39m.\u001b[39mstride,\n\u001b[1;32m    458\u001b[0m                     _pair(\u001b[39m0\u001b[39m), \u001b[39mself\u001b[39m\u001b[39m.\u001b[39mdilation, \u001b[39mself\u001b[39m\u001b[39m.\u001b[39mgroups)\n\u001b[0;32m--> 459\u001b[0m \u001b[39mreturn\u001b[39;00m F\u001b[39m.\u001b[39;49mconv2d(\u001b[39minput\u001b[39;49m, weight, bias, \u001b[39mself\u001b[39;49m\u001b[39m.\u001b[39;49mstride,\n\u001b[1;32m    460\u001b[0m                 \u001b[39mself\u001b[39;49m\u001b[39m.\u001b[39;49mpadding, \u001b[39mself\u001b[39;49m\u001b[39m.\u001b[39;49mdilation, \u001b[39mself\u001b[39;49m\u001b[39m.\u001b[39;49mgroups)\n",
      "\u001b[0;31mKeyboardInterrupt\u001b[0m: "
     ]
    }
   ],
   "source": [
    "num_epochs = 5000\n",
    "real_label = 1\n",
    "fake_label = 0\n",
    "\n",
    "\n",
    "img_list = []\n",
    "G_losses = []\n",
    "D_losses = []\n",
    "iters = 0\n",
    "\n",
    "print(\"Starting Training Loop...\")\n",
    "\n",
    "for epoch in range(num_epochs):\n",
    "    for i, data in enumerate(dataloader, 0):\n",
    "\n",
    "\n",
    "        netD.zero_grad()\n",
    "\n",
    "        real_cpu = data.to(DEVICE)\n",
    "        b_size = real_cpu.size(0)\n",
    "        label = torch.full((b_size,), real_label, dtype=torch.float, device=DEVICE)\n",
    "        output = netD(real_cpu).view(-1)\n",
    "        errD_real = loss(output, label)\n",
    "        errD_real.backward()\n",
    "        D_x = output.mean().item()\n",
    "\n",
    "        noise = torch.randn(b_size, 20, 1, 1, device=DEVICE)\n",
    "        fake = netG(noise)\n",
    "        label.fill_(fake_label)\n",
    "        output = netD(fake.detach()).view(-1)\n",
    "        errD_fake = loss(output, label)\n",
    "        errD_fake.backward()\n",
    "        D_G_z1 = output.mean().item()\n",
    "        errD = errD_real + errD_fake\n",
    "\n",
    "        optimizerD.step()\n",
    "\n",
    "\n",
    "        \n",
    "        netG.zero_grad()\n",
    "\n",
    "        label.fill_(real_label)\n",
    "        output = netD(fake).view(-1)\n",
    "        errG = loss(output, label)\n",
    "        errG.backward()\n",
    "        D_G_z2 = output.mean().item()\n",
    "\n",
    "        optimizerG.step()\n",
    "\n",
    "        \n",
    "        if epoch%50==0 and i==18:\n",
    "            print('[%d/%d][%d/%d]\\tLoss_D: %.4f\\tLoss_G: %.4f\\tD(x): %.4f\\tD(G(z)): %.4f / %.4f'\n",
    "                  % (epoch, num_epochs, i, len(dataloader),\n",
    "                     errD.item(), errG.item(), D_x, D_G_z1, D_G_z2))\n",
    "\n",
    "        G_losses.append(errG.item())\n",
    "        D_losses.append(errD.item())"
   ]
  }
 ],
 "metadata": {
  "kernelspec": {
   "display_name": ".venv",
   "language": "python",
   "name": "python3"
  },
  "language_info": {
   "codemirror_mode": {
    "name": "ipython",
    "version": 3
   },
   "file_extension": ".py",
   "mimetype": "text/x-python",
   "name": "python",
   "nbconvert_exporter": "python",
   "pygments_lexer": "ipython3",
   "version": "3.10.8"
  },
  "orig_nbformat": 4,
  "vscode": {
   "interpreter": {
    "hash": "c9725ae132daa6d67e7c0696dc70d7bd7710527aa3b8cab22929a7a827da9806"
   }
  }
 },
 "nbformat": 4,
 "nbformat_minor": 2
}
